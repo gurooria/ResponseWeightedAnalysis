{
 "cells": [
  {
   "cell_type": "code",
   "execution_count": 1,
   "metadata": {
    "metadata": {}
   },
   "outputs": [],
   "source": [
    "import numpy as np\n",
    "import pandas as pd\n",
    "from tqdm import tqdm\n",
    "from SAC.Agent import Agent\n",
    "from environment import Env\n",
    "import matplotlib.pyplot as plt\n",
    "from matplotlib.pyplot import imshow, show   \n",
    "from matplotlib import rcParams\n",
    "from IPython import display\n",
    "import time\n",
    "import copy\n",
    "import cv2\n",
    "from IPython.display import clear_output\n",
    "\n",
    "import torch\n",
    "import torch.nn as nn\n",
    "import torch.optim as optim\n",
    "from torch.utils.data import DataLoader, TensorDataset"
   ]
  },
  {
   "cell_type": "markdown",
   "metadata": {},
   "source": [
    "# Define Training Classes"
   ]
  },
  {
   "cell_type": "markdown",
   "metadata": {},
   "source": [
    "Training Data"
   ]
  },
  {
   "cell_type": "code",
   "execution_count": 2,
   "metadata": {
    "metadata": {}
   },
   "outputs": [],
   "source": [
    "class Agent_Training():\n",
    "    def __init__(self, image_dims, seed = 1):\n",
    "        # Initialisations\n",
    "        self.seed = seed\n",
    "        self.image_dims = image_dims\n",
    "        self.n_episodes = 50\n",
    "        self.episode_len = 200\n",
    "        self.seq_len = 4\n",
    "        self.env = Env(self.image_dims, self.seed)\n",
    "        self.n_actions = self.env.action_space.shape[0]\n",
    "        self.device = torch.device('cuda:0' if torch.cuda.is_available() else 'cpu')\n",
    "\n",
    "    def update_sequences(self, seq_observation, seq_action, observation, actions):\n",
    "        seq_observation = np.roll(seq_observation, -1, axis=0)\n",
    "        seq_observation[-1] = observation\n",
    "        seq_action = np.roll(seq_action, -1, axis=0)\n",
    "        seq_action[-1] = actions\n",
    "\n",
    "        return seq_observation, seq_action\n",
    "    \n",
    "    @torch.no_grad()\n",
    "    def initial_window(self):\n",
    "        observation = self.env.reset()\n",
    "        seq_observation = []\n",
    "        seq_observation_ = []\n",
    "        seq_actions = []     \n",
    "           \n",
    "        for i in range(self.seq_len): \n",
    "            action = [0 for i in range(self.n_actions)]\n",
    "            observation_, obs = self.env.step(action)\n",
    "            seq_observation.append(observation)\n",
    "            seq_observation_.append(observation_)\n",
    "            seq_actions.append(action)\n",
    "            observation = observation_\n",
    "        \n",
    "        return np.array(seq_observation), np.array(seq_observation_), np.array(seq_actions, dtype=np.float64)\n",
    "    \n",
    "\n",
    "    def initial_window_all(self):\n",
    "        final_seq_observation, final_seq_observation_, final_seq_actions = self.initial_window()\n",
    "        return final_seq_observation, final_seq_actions\n",
    "\n",
    "\n",
    "    def test_actor_video(self):\n",
    "        frames = [] # store the frames for the video\n",
    "        observations = []\n",
    "        \n",
    "        with tqdm(total=self.n_episodes*self.episode_len) as pbar:\n",
    "            \n",
    "            for i in range(self.n_episodes):\n",
    "                seq_observation, seq_action = self.initial_window_all()\n",
    "                seq_observation_ = copy.deepcopy(seq_observation)\n",
    "                \n",
    "                for t in range(self.episode_len):  \n",
    "                    action = [0., 0., 0.] # static arms\n",
    "                    \n",
    "                    # get camera views\n",
    "                    view1, view2 = self.env.my_render(dims = self.image_dims) # two different views - front and left. Two images instead of 1, test 1 vs 2 views\n",
    "                    concatenated_image = np.concatenate([view1[:,:,::-1], view2[:,:,::-1]], axis=2).transpose(2, 1, 0) / 255.0 \n",
    "                    frames.append(concatenated_image)\n",
    "                    \n",
    "                    # perform a step\n",
    "                    observation_, obs = self.env.step(action)\n",
    "                    observations.append(obs)\n",
    "                    seq_observation_, seq_action = self.update_sequences(seq_observation_, seq_action, observation_, action)\n",
    "                    seq_observation = seq_observation_\n",
    "                    pbar.update(1)\n",
    "        \n",
    "        return frames, observations"
   ]
  },
  {
   "cell_type": "markdown",
   "metadata": {},
   "source": [
    "# Get & Process Training Data"
   ]
  },
  {
   "cell_type": "code",
   "execution_count": 3,
   "metadata": {},
   "outputs": [],
   "source": [
    "dims = 64"
   ]
  },
  {
   "cell_type": "code",
   "execution_count": 4,
   "metadata": {
    "metadata": {}
   },
   "outputs": [
    {
     "name": "stderr",
     "output_type": "stream",
     "text": [
      "100%|██████████| 10000/10000 [11:42<00:00, 14.23it/s]\n"
     ]
    }
   ],
   "source": [
    "# Get the training data\n",
    "self = Agent_Training(image_dims = dims)\n",
    "frames, observations = self.test_actor_video()"
   ]
  },
  {
   "cell_type": "code",
   "execution_count": 11,
   "metadata": {},
   "outputs": [],
   "source": [
    "# save frames and observations\n",
    "np.save('frames.npy', frames)\n",
    "np.save('observations.npy', observations)"
   ]
  },
  {
   "cell_type": "code",
   "execution_count": 5,
   "metadata": {},
   "outputs": [],
   "source": [
    "# load frames and observations\n",
    "frames = np.load('frames.npy')\n",
    "observations = np.load('observations.npy')"
   ]
  },
  {
   "cell_type": "markdown",
   "metadata": {},
   "source": [
    "Get Front View Images"
   ]
  },
  {
   "cell_type": "code",
   "execution_count": 13,
   "metadata": {
    "metadata": {}
   },
   "outputs": [
    {
     "name": "stdout",
     "output_type": "stream",
     "text": [
      "torch.Size([10000, 64, 64, 3])\n"
     ]
    }
   ],
   "source": [
    "# get front view images\n",
    "# environment resets every 100 steps\n",
    "front_images = []\n",
    "for i in range(len(frames)):\n",
    "    x = frames[i]\n",
    "    # swap the first and last dimensions\n",
    "    x = np.swapaxes(x, 0, 2)\n",
    "    front_images.append(x[:, :, :3])\n",
    "\n",
    "# convert front_images to a torch tensor\n",
    "front_images = torch.tensor(front_images, dtype=torch.float32).to('cpu')\n",
    "print(front_images.shape)"
   ]
  },
  {
   "cell_type": "code",
   "execution_count": 16,
   "metadata": {
    "metadata": {}
   },
   "outputs": [
    {
     "data": {
      "image/png": "[encoded data removed]",
      "text/plain": [
       "<Figure size 500x500 with 1 Axes>"
      ]
     },
     "metadata": {},
     "output_type": "display_data"
    }
   ],
   "source": [
    "# Visualisations of the front view images\n",
    "# down & left = directions of increase\n",
    "i = 0\n",
    "for image in front_images[:200]:\n",
    "    i += 1\n",
    "    plt.figure(figsize=(5, 5))\n",
    "    plt.imshow(image)\n",
    "    plt.axis('off')  # Turn off the axis\n",
    "    plt.pause(0.001)  # Pause for 1 second between images\n",
    "    # clear the current image\n",
    "    clear_output(wait=True)"
   ]
  },
  {
   "cell_type": "markdown",
   "metadata": {},
   "source": [
    "Get Corresponding Labels (Positions + Velocities)"
   ]
  },
  {
   "cell_type": "code",
   "execution_count": 17,
   "metadata": {
    "metadata": {}
   },
   "outputs": [
    {
     "name": "stdout",
     "output_type": "stream",
     "text": [
      "torch.Size([10000, 6])\n"
     ]
    },
    {
     "name": "stderr",
     "output_type": "stream",
     "text": [
      "/tmp/ipykernel_1036/537354801.py:2: UserWarning: To copy construct from a tensor, it is recommended to use sourceTensor.clone().detach() or sourceTensor.clone().detach().requires_grad_(True), rather than torch.tensor(sourceTensor).\n",
      "  observations = torch.tensor(observations, dtype=torch.float32).to('cpu')\n"
     ]
    }
   ],
   "source": [
    "# convert observations to a torch tensor\n",
    "observations = torch.tensor(observations, dtype=torch.float32).to('cpu')\n",
    "print(observations.shape)"
   ]
  },
  {
   "cell_type": "markdown",
   "metadata": {},
   "source": [
    "Re-format data into batches of 5"
   ]
  },
  {
   "cell_type": "code",
   "execution_count": 18,
   "metadata": {
    "metadata": {}
   },
   "outputs": [
    {
     "name": "stdout",
     "output_type": "stream",
     "text": [
      "torch.Size([2000, 15, 64, 64])\n",
      "torch.Size([2000, 6])\n",
      "torch.Size([2000, 6])\n"
     ]
    }
   ],
   "source": [
    "# reformat image and label data\n",
    "training_images = torch.zeros(int(observations.shape[0]/5), dims, dims, 3*5)\n",
    "position_labels = torch.zeros(int(observations.shape[0]/5), observations.shape[1])\n",
    "velocity_labels = torch.zeros(int(observations.shape[0]/5), observations.shape[1])\n",
    "\n",
    "# reformat data into stacks of 5 images\n",
    "for i in range(int(observations.shape[0]/5)):\n",
    "    # stack the 3 RGB channels of every 5 images together\n",
    "    training_images[i] = torch.cat([front_images[i*5], front_images[i*5+1], front_images[i*5+2], front_images[i*5+3], front_images[i*5+4]], dim=2)\n",
    "    \n",
    "    # get the x & y positions for every 5th image\n",
    "    position_labels[i] = observations[i*5+4]\n",
    "    \n",
    "    # get the x & y velocities between every 4th and 5th images\n",
    "    velocity_labels[i] = observations[i*5+4] - observations[i*5]\n",
    "    \n",
    "# reshape traning_images to (n_samples, 3*5, 32, 32)\n",
    "training_images = training_images.permute(0, 3, 1, 2)\n",
    "\n",
    "print(training_images.shape)\n",
    "print(position_labels.shape)\n",
    "print(velocity_labels.shape)"
   ]
  },
  {
   "cell_type": "code",
   "execution_count": 26,
   "metadata": {},
   "outputs": [
    {
     "data": {
      "text/plain": [
       "tensor([[ 0.0150, -0.0050,  0.0000,  0.0300, -0.0110,  0.0000],\n",
       "        [ 0.0130, -0.0090,  0.0000,  0.0260, -0.0180,  0.0000],\n",
       "        [ 0.0110, -0.0120,  0.0000,  0.0210, -0.0240,  0.0000],\n",
       "        [ 0.0070, -0.0140,  0.0000,  0.0140, -0.0280,  0.0000],\n",
       "        [ 0.0030, -0.0160,  0.0000,  0.0070, -0.0310,  0.0000],\n",
       "        [-0.0000, -0.0160,  0.0000, -0.0010, -0.0320,  0.0000],\n",
       "        [-0.0040, -0.0150,  0.0000, -0.0090, -0.0310,  0.0000],\n",
       "        [-0.0080, -0.0140,  0.0000, -0.0160, -0.0280,  0.0000],\n",
       "        [-0.0110, -0.0110,  0.0000, -0.0220, -0.0230,  0.0000],\n",
       "        [-0.0140, -0.0080,  0.0000, -0.0270, -0.0160,  0.0000],\n",
       "        [-0.0150, -0.0050,  0.0000, -0.0310, -0.0090,  0.0000],\n",
       "        [-0.0160, -0.0010,  0.0000, -0.0320, -0.0010,  0.0000],\n",
       "        [-0.0160,  0.0030,  0.0000, -0.0310,  0.0070,  0.0000],\n",
       "        [-0.0140,  0.0070,  0.0000, -0.0290,  0.0140,  0.0000],\n",
       "        [-0.0120,  0.0100,  0.0000, -0.0240,  0.0210,  0.0000],\n",
       "        [-0.0090,  0.0130,  0.0000, -0.0180,  0.0260,  0.0000],\n",
       "        [-0.0060,  0.0150,  0.0000, -0.0110,  0.0300,  0.0000],\n",
       "        [-0.0020,  0.0160,  0.0000, -0.0040,  0.0320,  0.0000],\n",
       "        [ 0.0020,  0.0160,  0.0000,  0.0040,  0.0320,  0.0000],\n",
       "        [ 0.0060,  0.0150,  0.0000,  0.0120,  0.0300,  0.0000],\n",
       "        [ 0.0100,  0.0130,  0.0000,  0.0190,  0.0260,  0.0000],\n",
       "        [ 0.0120,  0.0100,  0.0000,  0.0250,  0.0200,  0.0000],\n",
       "        [ 0.0140,  0.0070,  0.0000,  0.0290,  0.0130,  0.0000],\n",
       "        [ 0.0160,  0.0030,  0.0000,  0.0310,  0.0060,  0.0000],\n",
       "        [ 0.0160, -0.0010,  0.0000,  0.0320, -0.0020,  0.0000],\n",
       "        [ 0.0150, -0.0050,  0.0000,  0.0300, -0.0100,  0.0000],\n",
       "        [ 0.0130, -0.0090,  0.0000,  0.0270, -0.0170,  0.0000],\n",
       "        [ 0.0110, -0.0120,  0.0000,  0.0220, -0.0230,  0.0000],\n",
       "        [ 0.0080, -0.0140,  0.0000,  0.0150, -0.0280,  0.0000],\n",
       "        [ 0.0040, -0.0150,  0.0000,  0.0080, -0.0310,  0.0000],\n",
       "        [ 0.0000, -0.0160,  0.0000,  0.0000, -0.0320,  0.0000],\n",
       "        [-0.0040, -0.0150,  0.0000, -0.0080, -0.0310,  0.0000],\n",
       "        [-0.0080, -0.0140,  0.0000, -0.0150, -0.0280,  0.0000],\n",
       "        [-0.0110, -0.0120,  0.0000, -0.0220, -0.0230,  0.0000],\n",
       "        [-0.0130, -0.0090,  0.0000, -0.0270, -0.0170,  0.0000],\n",
       "        [-0.0150, -0.0050,  0.0000, -0.0300, -0.0100,  0.0000],\n",
       "        [-0.0160, -0.0010,  0.0000, -0.0320, -0.0020,  0.0000],\n",
       "        [-0.0160,  0.0030,  0.0000, -0.0310,  0.0060,  0.0000],\n",
       "        [-0.0150,  0.0070,  0.0000, -0.0290,  0.0130,  0.0000],\n",
       "        [-0.0120,  0.0100,  0.0000, -0.0250,  0.0200,  0.0000],\n",
       "        [ 0.0150, -0.0050,  0.0000,  0.0300, -0.0110,  0.0000],\n",
       "        [ 0.0130, -0.0090,  0.0000,  0.0260, -0.0180,  0.0000],\n",
       "        [ 0.0110, -0.0120,  0.0000,  0.0210, -0.0240,  0.0000],\n",
       "        [ 0.0070, -0.0140,  0.0000,  0.0140, -0.0280,  0.0000],\n",
       "        [ 0.0030, -0.0160,  0.0000,  0.0070, -0.0310,  0.0000],\n",
       "        [-0.0000, -0.0160,  0.0000, -0.0010, -0.0320,  0.0000],\n",
       "        [-0.0040, -0.0150,  0.0000, -0.0090, -0.0310,  0.0000],\n",
       "        [-0.0080, -0.0140,  0.0000, -0.0160, -0.0280,  0.0000],\n",
       "        [-0.0110, -0.0110,  0.0000, -0.0220, -0.0230,  0.0000],\n",
       "        [-0.0140, -0.0080,  0.0000, -0.0270, -0.0160,  0.0000],\n",
       "        [-0.0150, -0.0050,  0.0000, -0.0310, -0.0090,  0.0000],\n",
       "        [-0.0160, -0.0010,  0.0000, -0.0320, -0.0010,  0.0000],\n",
       "        [-0.0160,  0.0030,  0.0000, -0.0310,  0.0070,  0.0000],\n",
       "        [-0.0140,  0.0070,  0.0000, -0.0290,  0.0140,  0.0000],\n",
       "        [-0.0120,  0.0100,  0.0000, -0.0240,  0.0210,  0.0000],\n",
       "        [-0.0090,  0.0130,  0.0000, -0.0180,  0.0260,  0.0000],\n",
       "        [-0.0060,  0.0150,  0.0000, -0.0110,  0.0300,  0.0000],\n",
       "        [-0.0020,  0.0160,  0.0000, -0.0040,  0.0320,  0.0000],\n",
       "        [ 0.0020,  0.0160,  0.0000,  0.0040,  0.0320,  0.0000],\n",
       "        [ 0.0060,  0.0150,  0.0000,  0.0120,  0.0300,  0.0000],\n",
       "        [ 0.0100,  0.0130,  0.0000,  0.0190,  0.0260,  0.0000],\n",
       "        [ 0.0120,  0.0100,  0.0000,  0.0250,  0.0200,  0.0000],\n",
       "        [ 0.0140,  0.0070,  0.0000,  0.0290,  0.0130,  0.0000],\n",
       "        [ 0.0160,  0.0030,  0.0000,  0.0310,  0.0060,  0.0000],\n",
       "        [ 0.0160, -0.0010,  0.0000,  0.0320, -0.0020,  0.0000],\n",
       "        [ 0.0150, -0.0050,  0.0000,  0.0300, -0.0100,  0.0000],\n",
       "        [ 0.0130, -0.0090,  0.0000,  0.0270, -0.0170,  0.0000],\n",
       "        [ 0.0110, -0.0120,  0.0000,  0.0220, -0.0230,  0.0000],\n",
       "        [ 0.0080, -0.0140,  0.0000,  0.0150, -0.0280,  0.0000],\n",
       "        [ 0.0040, -0.0150,  0.0000,  0.0080, -0.0310,  0.0000],\n",
       "        [ 0.0000, -0.0160,  0.0000,  0.0000, -0.0320,  0.0000],\n",
       "        [-0.0040, -0.0150,  0.0000, -0.0080, -0.0310,  0.0000],\n",
       "        [-0.0080, -0.0140,  0.0000, -0.0150, -0.0280,  0.0000],\n",
       "        [-0.0110, -0.0120,  0.0000, -0.0220, -0.0230,  0.0000],\n",
       "        [-0.0130, -0.0090,  0.0000, -0.0270, -0.0170,  0.0000],\n",
       "        [-0.0150, -0.0050,  0.0000, -0.0300, -0.0100,  0.0000],\n",
       "        [-0.0160, -0.0010,  0.0000, -0.0320, -0.0020,  0.0000],\n",
       "        [-0.0160,  0.0030,  0.0000, -0.0310,  0.0060,  0.0000],\n",
       "        [-0.0150,  0.0070,  0.0000, -0.0290,  0.0130,  0.0000],\n",
       "        [-0.0120,  0.0100,  0.0000, -0.0250,  0.0200,  0.0000],\n",
       "        [ 0.0150, -0.0050,  0.0000,  0.0300, -0.0110,  0.0000],\n",
       "        [ 0.0130, -0.0090,  0.0000,  0.0260, -0.0180,  0.0000],\n",
       "        [ 0.0110, -0.0120,  0.0000,  0.0210, -0.0240,  0.0000],\n",
       "        [ 0.0070, -0.0140,  0.0000,  0.0140, -0.0280,  0.0000],\n",
       "        [ 0.0030, -0.0160,  0.0000,  0.0070, -0.0310,  0.0000],\n",
       "        [-0.0000, -0.0160,  0.0000, -0.0010, -0.0320,  0.0000],\n",
       "        [-0.0040, -0.0150,  0.0000, -0.0090, -0.0310,  0.0000],\n",
       "        [-0.0080, -0.0140,  0.0000, -0.0160, -0.0280,  0.0000],\n",
       "        [-0.0110, -0.0110,  0.0000, -0.0220, -0.0230,  0.0000],\n",
       "        [-0.0140, -0.0080,  0.0000, -0.0270, -0.0160,  0.0000],\n",
       "        [-0.0150, -0.0050,  0.0000, -0.0310, -0.0090,  0.0000],\n",
       "        [-0.0160, -0.0010,  0.0000, -0.0320, -0.0010,  0.0000],\n",
       "        [-0.0160,  0.0030,  0.0000, -0.0310,  0.0070,  0.0000],\n",
       "        [-0.0140,  0.0070,  0.0000, -0.0290,  0.0140,  0.0000],\n",
       "        [-0.0120,  0.0100,  0.0000, -0.0240,  0.0210,  0.0000],\n",
       "        [-0.0090,  0.0130,  0.0000, -0.0180,  0.0260,  0.0000],\n",
       "        [-0.0060,  0.0150,  0.0000, -0.0110,  0.0300,  0.0000],\n",
       "        [-0.0020,  0.0160,  0.0000, -0.0040,  0.0320,  0.0000],\n",
       "        [ 0.0020,  0.0160,  0.0000,  0.0040,  0.0320,  0.0000],\n",
       "        [ 0.0060,  0.0150,  0.0000,  0.0120,  0.0300,  0.0000]])"
      ]
     },
     "execution_count": 26,
     "metadata": {},
     "output_type": "execute_result"
    }
   ],
   "source": [
    "np.round(velocity_labels[:100], 3)"
   ]
  },
  {
   "cell_type": "code",
   "execution_count": 20,
   "metadata": {},
   "outputs": [
    {
     "data": {
      "text/plain": [
       "tensor([[1.3449, 0.7120, 0.4000, 1.3213, 0.9755, 0.4000],\n",
       "        [1.3616, 0.7011, 0.4000, 1.3548, 0.9538, 0.4000],\n",
       "        [1.3751, 0.6865, 0.4000, 1.3818, 0.9245, 0.4000],\n",
       "        [1.3846, 0.6689, 0.4000, 1.4008, 0.8894, 0.4000],\n",
       "        [1.3895, 0.6496, 0.4000, 1.4105, 0.8507, 0.4000],\n",
       "        [1.3894, 0.6296, 0.4000, 1.4104, 0.8108, 0.4000],\n",
       "        [1.3844, 0.6103, 0.4000, 1.4003, 0.7722, 0.4000],\n",
       "        [1.3747, 0.5928, 0.4000, 1.3811, 0.7372, 0.4000],\n",
       "        [1.3611, 0.5783, 0.4000, 1.3537, 0.7082, 0.4000],\n",
       "        [1.3443, 0.5676, 0.4000, 1.3201, 0.6868, 0.4000],\n",
       "        [1.3253, 0.5614, 0.4000, 1.2822, 0.6743, 0.4000],\n",
       "        [1.3054, 0.5601, 0.4000, 1.2424, 0.6717, 0.4000],\n",
       "        [1.2858, 0.5637, 0.4000, 1.2031, 0.6790, 0.4000],\n",
       "        [1.2677, 0.5721, 0.4000, 1.1669, 0.6957, 0.4000],\n",
       "        [1.2522, 0.5847, 0.4000, 1.1360, 0.7209, 0.4000],\n",
       "        [1.2403, 0.6007, 0.4000, 1.1122, 0.7530, 0.4000],\n",
       "        [1.2328, 0.6192, 0.4000, 1.0972, 0.7899, 0.4000],\n",
       "        [1.2301, 0.6389, 0.4000, 1.0917, 0.8294, 0.4000],\n",
       "        [1.2323, 0.6588, 0.4000, 1.0962, 0.8691, 0.4000],\n",
       "        [1.2394, 0.6774, 0.4000, 1.1103, 0.9064, 0.4000],\n",
       "        [1.2509, 0.6937, 0.4000, 1.1333, 0.9390, 0.4000],\n",
       "        [1.2660, 0.7067, 0.4000, 1.1636, 0.9650, 0.4000],\n",
       "        [1.2839, 0.7155, 0.4000, 1.1994, 0.9826, 0.4000],\n",
       "        [1.3034, 0.7197, 0.4000, 1.2384, 0.9909, 0.4000],\n",
       "        [1.3233, 0.7188, 0.4000, 1.2783, 0.9892, 0.4000],\n",
       "        [1.3425, 0.7131, 0.4000, 1.3165, 0.9777, 0.4000],\n",
       "        [1.3595, 0.7028, 0.4000, 1.3507, 0.9571, 0.4000],\n",
       "        [1.3736, 0.6886, 0.4000, 1.3787, 0.9287, 0.4000],\n",
       "        [1.3836, 0.6714, 0.4000, 1.3988, 0.8943, 0.4000],\n",
       "        [1.3891, 0.6522, 0.4000, 1.4098, 0.8559, 0.4000],\n",
       "        [1.3897, 0.6323, 0.4000, 1.4110, 0.8161, 0.4000],\n",
       "        [1.3853, 0.6128, 0.4000, 1.4022, 0.7771, 0.4000],\n",
       "        [1.3763, 0.5950, 0.4000, 1.3841, 0.7416, 0.4000],\n",
       "        [1.3631, 0.5800, 0.4000, 1.3578, 0.7116, 0.4000],\n",
       "        [1.3466, 0.5688, 0.4000, 1.3248, 0.6891, 0.4000],\n",
       "        [1.3279, 0.5619, 0.4000, 1.2874, 0.6754, 0.4000],\n",
       "        [1.3080, 0.5600, 0.4000, 1.2477, 0.6715, 0.4000],\n",
       "        [1.2883, 0.5629, 0.4000, 1.2082, 0.6774, 0.4000],\n",
       "        [1.2699, 0.5707, 0.4000, 1.1715, 0.6930, 0.4000],\n",
       "        [1.2541, 0.5828, 0.4000, 1.1397, 0.7171, 0.4000],\n",
       "        [1.3070, 0.6240, 0.4000, 1.3474, 0.9815, 0.4000],\n",
       "        [1.3238, 0.6132, 0.4000, 1.3808, 0.9598, 0.4000],\n",
       "        [1.3373, 0.5985, 0.4000, 1.4079, 0.9305, 0.4000],\n",
       "        [1.3468, 0.5810, 0.4000, 1.4269, 0.8954, 0.4000],\n",
       "        [1.3516, 0.5616, 0.4000, 1.4366, 0.8567, 0.4000],\n",
       "        [1.3516, 0.5417, 0.4000, 1.4364, 0.8168, 0.4000],\n",
       "        [1.3465, 0.5224, 0.4000, 1.4264, 0.7782, 0.4000],\n",
       "        [1.3369, 0.5049, 0.4000, 1.4071, 0.7433, 0.4000],\n",
       "        [1.3232, 0.4904, 0.4000, 1.3798, 0.7142, 0.4000],\n",
       "        [1.3064, 0.4797, 0.4000, 1.3461, 0.6928, 0.4000],\n",
       "        [1.2875, 0.4735, 0.4000, 1.3082, 0.6804, 0.4000],\n",
       "        [1.2676, 0.4721, 0.4000, 1.2684, 0.6777, 0.4000],\n",
       "        [1.2479, 0.4758, 0.4000, 1.2292, 0.6850, 0.4000],\n",
       "        [1.2298, 0.4842, 0.4000, 1.1930, 0.7018, 0.4000],\n",
       "        [1.2144, 0.4968, 0.4000, 1.1620, 0.7270, 0.4000],\n",
       "        [1.2025, 0.5128, 0.4000, 1.1383, 0.7590, 0.4000],\n",
       "        [1.1950, 0.5313, 0.4000, 1.1232, 0.7960, 0.4000],\n",
       "        [1.1922, 0.5510, 0.4000, 1.1178, 0.8355, 0.4000],\n",
       "        [1.1945, 0.5708, 0.4000, 1.1223, 0.8751, 0.4000],\n",
       "        [1.2015, 0.5895, 0.4000, 1.1364, 0.9124, 0.4000],\n",
       "        [1.2130, 0.6058, 0.4000, 1.1593, 0.9451, 0.4000],\n",
       "        [1.2282, 0.6188, 0.4000, 1.1896, 0.9710, 0.4000],\n",
       "        [1.2461, 0.6276, 0.4000, 1.2254, 0.9887, 0.4000],\n",
       "        [1.2656, 0.6317, 0.4000, 1.2645, 0.9969, 0.4000],\n",
       "        [1.2855, 0.6309, 0.4000, 1.3043, 0.9952, 0.4000],\n",
       "        [1.3046, 0.6252, 0.4000, 1.3425, 0.9838, 0.4000],\n",
       "        [1.3217, 0.6149, 0.4000, 1.3767, 0.9632, 0.4000],\n",
       "        [1.3357, 0.6007, 0.4000, 1.4047, 0.9348, 0.4000],\n",
       "        [1.3458, 0.5835, 0.4000, 1.4249, 0.9004, 0.4000],\n",
       "        [1.3513, 0.5643, 0.4000, 1.4359, 0.8620, 0.4000],\n",
       "        [1.3519, 0.5443, 0.4000, 1.4370, 0.8221, 0.4000],\n",
       "        [1.3475, 0.5249, 0.4000, 1.4283, 0.7832, 0.4000],\n",
       "        [1.3384, 0.5071, 0.4000, 1.4102, 0.7476, 0.4000],\n",
       "        [1.3253, 0.4921, 0.4000, 1.3838, 0.7177, 0.4000],\n",
       "        [1.3088, 0.4809, 0.4000, 1.3509, 0.6952, 0.4000],\n",
       "        [1.2901, 0.4740, 0.4000, 1.3134, 0.6815, 0.4000],\n",
       "        [1.2702, 0.4720, 0.4000, 1.2737, 0.6775, 0.4000],\n",
       "        [1.2505, 0.4750, 0.4000, 1.2343, 0.6835, 0.4000],\n",
       "        [1.2321, 0.4828, 0.4000, 1.1975, 0.6990, 0.4000],\n",
       "        [1.2162, 0.4949, 0.4000, 1.1658, 0.7232, 0.4000],\n",
       "        [1.3420, 0.6866, 0.4000, 1.3800, 1.0291, 0.4000],\n",
       "        [1.3588, 0.6757, 0.4000, 1.4134, 1.0074, 0.4000],\n",
       "        [1.3723, 0.6611, 0.4000, 1.4405, 0.9781, 0.4000],\n",
       "        [1.3818, 0.6435, 0.4000, 1.4595, 0.9430, 0.4000],\n",
       "        [1.3866, 0.6242, 0.4000, 1.4692, 0.9043, 0.4000],\n",
       "        [1.3866, 0.6042, 0.4000, 1.4690, 0.8644, 0.4000],\n",
       "        [1.3815, 0.5849, 0.4000, 1.4590, 0.8258, 0.4000],\n",
       "        [1.3719, 0.5674, 0.4000, 1.4397, 0.7909, 0.4000],\n",
       "        [1.3582, 0.5529, 0.4000, 1.4124, 0.7618, 0.4000],\n",
       "        [1.3414, 0.5422, 0.4000, 1.3787, 0.7404, 0.4000],\n",
       "        [1.3225, 0.5360, 0.4000, 1.3408, 0.7279, 0.4000],\n",
       "        [1.3026, 0.5347, 0.4000, 1.3010, 0.7253, 0.4000],\n",
       "        [1.2829, 0.5383, 0.4000, 1.2618, 0.7326, 0.4000],\n",
       "        [1.2648, 0.5467, 0.4000, 1.2256, 0.7493, 0.4000],\n",
       "        [1.2494, 0.5593, 0.4000, 1.1947, 0.7745, 0.4000],\n",
       "        [1.2375, 0.5753, 0.4000, 1.1709, 0.8066, 0.4000],\n",
       "        [1.2300, 0.5938, 0.4000, 1.1558, 0.8435, 0.4000],\n",
       "        [1.2272, 0.6135, 0.4000, 1.1504, 0.8830, 0.4000],\n",
       "        [1.2295, 0.6333, 0.4000, 1.1549, 0.9227, 0.4000],\n",
       "        [1.2366, 0.6520, 0.4000, 1.1690, 0.9600, 0.4000]])"
      ]
     },
     "execution_count": 20,
     "metadata": {},
     "output_type": "execute_result"
    }
   ],
   "source": [
    "position_labels[:100]"
   ]
  },
  {
   "cell_type": "code",
   "execution_count": 27,
   "metadata": {
    "metadata": {}
   },
   "outputs": [],
   "source": [
    "# save the training data\n",
    "torch.save(training_images, 'training_images.pt')\n",
    "torch.save(position_labels, 'position_labels.pt')\n",
    "torch.save(velocity_labels, 'velocity_labels.pt')"
   ]
  }
 ],
 "metadata": {
  "kernelspec": {
   "display_name": "fetchLinux",
   "language": "python",
   "name": "python3"
  },
  "language_info": {
   "codemirror_mode": {
    "name": "ipython",
    "version": 3
   },
   "file_extension": ".py",
   "mimetype": "text/x-python",
   "name": "python",
   "nbconvert_exporter": "python",
   "pygments_lexer": "ipython3",
   "version": "3.11.8"
  }
 },
 "nbformat": 4,
 "nbformat_minor": 2
}
