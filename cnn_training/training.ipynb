{
 "cells": [
  {
   "cell_type": "code",
   "execution_count": 1,
   "metadata": {
    "metadata": {}
   },
   "outputs": [],
   "source": [
    "import numpy as np\n",
    "import pandas as pd\n",
    "from tqdm import tqdm\n",
    "from SAC.Agent import Agent\n",
    "from environment import Env\n",
    "import matplotlib.pyplot as plt\n",
    "from matplotlib.pyplot import imshow, show   \n",
    "from matplotlib import rcParams\n",
    "from IPython import display\n",
    "import time\n",
    "import copy\n",
    "import cv2\n",
    "from IPython.display import clear_output\n",
    "\n",
    "import torch\n",
    "import torch.nn as nn\n",
    "import torch.optim as optim\n",
    "from torch.utils.data import DataLoader, TensorDataset"
   ]
  },
  {
   "cell_type": "markdown",
   "metadata": {},
   "source": [
    "# Define Training Classes"
   ]
  },
  {
   "cell_type": "markdown",
   "metadata": {},
   "source": [
    "Training Data"
   ]
  },
  {
   "cell_type": "code",
   "execution_count": 2,
   "metadata": {
    "metadata": {}
   },
   "outputs": [],
   "source": [
    "class Agent_Training():\n",
    "    def __init__(self, image_dims, seed = 1):\n",
    "        # Initialisations\n",
    "        self.seed = seed\n",
    "        self.image_dims = image_dims\n",
    "        self.n_episodes = 30\n",
    "        self.episode_len = 200\n",
    "        self.seq_len = 4\n",
    "        self.env = Env(self.image_dims, self.seed)\n",
    "        self.n_actions = self.env.action_space.shape[0]\n",
    "        self.device = torch.device('cuda:0' if torch.cuda.is_available() else 'cpu')\n",
    "\n",
    "    def update_sequences(self, seq_observation, seq_action, observation, actions):\n",
    "        seq_observation = np.roll(seq_observation, -1, axis=0)\n",
    "        seq_observation[-1] = observation\n",
    "        seq_action = np.roll(seq_action, -1, axis=0)\n",
    "        seq_action[-1] = actions\n",
    "\n",
    "        return seq_observation, seq_action\n",
    "    \n",
    "    @torch.no_grad()\n",
    "    def initial_window(self):\n",
    "        observation = self.env.reset()\n",
    "        seq_observation = []\n",
    "        seq_observation_ = []\n",
    "        seq_actions = []     \n",
    "           \n",
    "        for i in range(self.seq_len): \n",
    "            action = [0 for i in range(self.n_actions)]\n",
    "            observation_, obs = self.env.step(action)\n",
    "            seq_observation.append(observation)\n",
    "            seq_observation_.append(observation_)\n",
    "            seq_actions.append(action)\n",
    "            observation = observation_\n",
    "        \n",
    "        return np.array(seq_observation), np.array(seq_observation_), np.array(seq_actions, dtype=np.float64)\n",
    "    \n",
    "\n",
    "    def initial_window_all(self):\n",
    "        final_seq_observation, final_seq_observation_, final_seq_actions = self.initial_window()\n",
    "        return final_seq_observation, final_seq_actions\n",
    "\n",
    "\n",
    "    def test_actor_video(self):\n",
    "        frames = [] # store the frames for the video\n",
    "        observations = []\n",
    "        \n",
    "        with tqdm(total=self.n_episodes*self.episode_len) as pbar:\n",
    "            \n",
    "            for i in range(self.n_episodes):\n",
    "                seq_observation, seq_action = self.initial_window_all()\n",
    "                seq_observation_ = copy.deepcopy(seq_observation)\n",
    "                \n",
    "                for t in range(self.episode_len):  \n",
    "                    action = [0., 0., 0.] # static arms\n",
    "                    \n",
    "                    # get camera views\n",
    "                    view1, view2 = self.env.my_render(dims = self.image_dims) # two different views - front and left. Two images instead of 1, test 1 vs 2 views\n",
    "                    concatenated_image = np.concatenate([view1[:,:,::-1], view2[:,:,::-1]], axis=2).transpose(2, 1, 0) / 255.0 \n",
    "                    frames.append(concatenated_image)\n",
    "                    \n",
    "                    # perform a step\n",
    "                    observation_, obs = self.env.step(action)\n",
    "                    observations.append(obs)\n",
    "                    seq_observation_, seq_action = self.update_sequences(seq_observation_, seq_action, observation_, action)\n",
    "                    seq_observation = seq_observation_\n",
    "                    pbar.update(1)\n",
    "        \n",
    "        return frames, observations"
   ]
  },
  {
   "cell_type": "markdown",
   "metadata": {},
   "source": [
    "# Get & Process Training Data"
   ]
  },
  {
   "cell_type": "code",
   "execution_count": 6,
   "metadata": {},
   "outputs": [],
   "source": [
    "dims = 32"
   ]
  },
  {
   "cell_type": "code",
   "execution_count": null,
   "metadata": {
    "metadata": {}
   },
   "outputs": [],
   "source": [
    "# Get the training data\n",
    "self = Agent_Training(image_dims = dims)\n",
    "frames, observations = self.test_actor_video()"
   ]
  },
  {
   "cell_type": "code",
   "execution_count": 4,
   "metadata": {},
   "outputs": [],
   "source": [
    "# save frames and observations\n",
    "np.save('frames.npy', frames)\n",
    "np.save('observations.npy', observations)"
   ]
  },
  {
   "cell_type": "code",
   "execution_count": 5,
   "metadata": {},
   "outputs": [],
   "source": [
    "# load frames and observations\n",
    "frames = np.load('frames.npy')\n",
    "observations = np.load('observations.npy')"
   ]
  },
  {
   "cell_type": "markdown",
   "metadata": {},
   "source": [
    "Get Front View Images"
   ]
  },
  {
   "cell_type": "code",
   "execution_count": 7,
   "metadata": {
    "metadata": {}
   },
   "outputs": [
    {
     "name": "stdout",
     "output_type": "stream",
     "text": [
      "torch.Size([6000, 32, 32, 3])\n"
     ]
    },
    {
     "name": "stderr",
     "output_type": "stream",
     "text": [
      "/tmp/ipykernel_2673/332606914.py:11: UserWarning: Creating a tensor from a list of numpy.ndarrays is extremely slow. Please consider converting the list to a single numpy.ndarray with numpy.array() before converting to a tensor. (Triggered internally at ../torch/csrc/utils/tensor_new.cpp:274.)\n",
      "  front_images = torch.tensor(front_images, dtype=torch.float32).to('cpu')\n"
     ]
    }
   ],
   "source": [
    "# get front view images\n",
    "# environment resets every 100 steps\n",
    "front_images = []\n",
    "for i in range(len(frames)):\n",
    "    x = frames[i]\n",
    "    # swap the first and last dimensions\n",
    "    x = np.swapaxes(x, 0, 2)\n",
    "    front_images.append(x[:, :, :3])\n",
    "\n",
    "# convert front_images to a torch tensor\n",
    "front_images = torch.tensor(front_images, dtype=torch.float32).to('cpu')\n",
    "print(front_images.shape)"
   ]
  },
  {
   "cell_type": "code",
   "execution_count": 8,
   "metadata": {
    "metadata": {}
   },
   "outputs": [
    {
     "data": {
      "image/png": "[encoded data removed]",
      "text/plain": [
       "<Figure size 500x500 with 1 Axes>"
      ]
     },
     "metadata": {},
     "output_type": "display_data"
    }
   ],
   "source": [
    "# Visualisations of the front view images\n",
    "# down & left = directions of increase\n",
    "i = 0\n",
    "for image in front_images[:100]:\n",
    "    i += 1\n",
    "    plt.figure(figsize=(5, 5))\n",
    "    plt.imshow(image)\n",
    "    plt.axis('off')  # Turn off the axis\n",
    "    plt.pause(0.001)  # Pause for 1 second between images\n",
    "    # clear the current image\n",
    "    clear_output(wait=True)"
   ]
  },
  {
   "cell_type": "markdown",
   "metadata": {},
   "source": [
    "Get Corresponding Labels (Positions + Velocities)"
   ]
  },
  {
   "cell_type": "code",
   "execution_count": 9,
   "metadata": {
    "metadata": {}
   },
   "outputs": [
    {
     "name": "stdout",
     "output_type": "stream",
     "text": [
      "torch.Size([6000, 6])\n"
     ]
    }
   ],
   "source": [
    "# convert observations to a torch tensor\n",
    "observations = torch.tensor(observations, dtype=torch.float32).to('cpu')\n",
    "print(observations.shape)"
   ]
  },
  {
   "cell_type": "markdown",
   "metadata": {},
   "source": [
    "Re-format data into batches of 5"
   ]
  },
  {
   "cell_type": "code",
   "execution_count": 10,
   "metadata": {
    "metadata": {}
   },
   "outputs": [
    {
     "name": "stdout",
     "output_type": "stream",
     "text": [
      "torch.Size([1200, 15, 32, 32])\n",
      "torch.Size([1200, 6])\n",
      "torch.Size([1200, 6])\n"
     ]
    }
   ],
   "source": [
    "# reformat image and label data\n",
    "training_images = torch.zeros(int(observations.shape[0]/5), dims, dims, 3*5)\n",
    "position_labels = torch.zeros(int(observations.shape[0]/5), observations.shape[1])\n",
    "velocity_labels = torch.zeros(int(observations.shape[0]/5), observations.shape[1])\n",
    "\n",
    "# reformat data into stacks of 5 images\n",
    "for i in range(int(observations.shape[0]/5)):\n",
    "    # stack the 3 RGB channels of every 5 images together\n",
    "    training_images[i] = torch.cat([front_images[i*5], front_images[i*5+1], front_images[i*5+2], front_images[i*5+3], front_images[i*5+4]], dim=2)\n",
    "    \n",
    "    # get the x & y positions for every 5th image\n",
    "    position_labels[i] = observations[i*5+4]\n",
    "    \n",
    "    # get the x & y velocities between every 4th and 5th images\n",
    "    velocity_labels[i] = observations[i*5+4] - observations[i*5]\n",
    "    \n",
    "# reshape traning_images to (n_samples, 3*5, 32, 32)\n",
    "training_images = training_images.permute(0, 3, 1, 2)\n",
    "\n",
    "print(training_images.shape)\n",
    "print(position_labels.shape)\n",
    "print(velocity_labels.shape)"
   ]
  },
  {
   "cell_type": "code",
   "execution_count": 11,
   "metadata": {
    "metadata": {}
   },
   "outputs": [],
   "source": [
    "# save the training data\n",
    "torch.save(training_images, 'training_images.pt')\n",
    "torch.save(position_labels, 'position_labels.pt')\n",
    "torch.save(velocity_labels, 'velocity_labels.pt')"
   ]
  }
 ],
 "metadata": {
  "kernelspec": {
   "display_name": "fetchLinux",
   "language": "python",
   "name": "python3"
  },
  "language_info": {
   "codemirror_mode": {
    "name": "ipython",
    "version": 3
   },
   "file_extension": ".py",
   "mimetype": "text/x-python",
   "name": "python",
   "nbconvert_exporter": "python",
   "pygments_lexer": "ipython3",
   "version": "3.11.8"
  }
 },
 "nbformat": 4,
 "nbformat_minor": 2
}
