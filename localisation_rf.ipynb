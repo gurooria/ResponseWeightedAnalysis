{
 "cells": [
  {
   "cell_type": "code",
   "execution_count": 1,
   "metadata": {},
   "outputs": [],
   "source": [
    "from rwa import * # custom module for Response-Weighted Analysis\n",
    "\n",
    "import torch\n",
    "import torch.nn as nn\n",
    "import torch.nn.functional as F\n",
    "from torch.nn import init\n",
    "import torch.fx\n",
    "\n",
    "from sklearn.decomposition import PCA\n",
    "from sklearn.preprocessing import StandardScaler\n",
    "\n",
    "import math\n",
    "import numpy as np\n",
    "import matplotlib.pyplot as plt\n",
    "import pickle\n",
    "from tqdm import tqdm"
   ]
  },
  {
   "cell_type": "code",
   "execution_count": 16,
   "metadata": {},
   "outputs": [],
   "source": [
    "class LocalizationCNN(nn.Module):\n",
    "    def __init__(self):\n",
    "        super(LocalizationCNN, self).__init__()\n",
    "        \n",
    "        # Define convolutional layers\n",
    "        self.conv1 = nn.Conv2d(15, 32, kernel_size=7, padding=1)\n",
    "        self.norm1 = nn.BatchNorm2d(32)\n",
    "        \n",
    "        self.conv2 = nn.Conv2d(32, 64, kernel_size=5, padding=1)\n",
    "        self.norm2 = nn.BatchNorm2d(64)\n",
    "        \n",
    "        # self.conv3 = nn.Conv2d(64, 128, kernel_size=3, padding=1)\n",
    "        # self.norm3 = nn.BatchNorm2d(128)\n",
    "        \n",
    "        self.relu = nn.ReLU()\n",
    "        self.pool = nn.MaxPool2d(2)\n",
    "        \n",
    "        # Define regressor\n",
    "        self.regressor = nn.Sequential(\n",
    "            nn.Flatten(),\n",
    "            nn.Linear(64 * 6 * 6, 64),  # Adjust the size based on the output from the last pooling layer\n",
    "            nn.ReLU(),\n",
    "            nn.Dropout(0.3),\n",
    "            nn.Linear(64, 6)  # Output Layer for x, y coordinates and velocity\n",
    "        )\n",
    "\n",
    "    def forward(self, x):\n",
    "        # Apply convolutional layers with activations, pooling and normalization\n",
    "        x1 = self.conv1(x)\n",
    "        x = self.relu(x1)\n",
    "        x = self.norm1(self.pool(x))\n",
    "        x2 = self.conv2(x)\n",
    "        x = self.relu(x2)\n",
    "        x = self.norm2(self.pool(x))\n",
    "        # x3 = self.conv3(x)\n",
    "        # x = self.relu(x3)\n",
    "        # x = self.norm3(self.pool(x))\n",
    "        \n",
    "        # Apply regressor\n",
    "        x = self.regressor(x)\n",
    "        \n",
    "        return x"
   ]
  },
  {
   "cell_type": "code",
   "execution_count": 18,
   "metadata": {},
   "outputs": [
    {
     "data": {
      "text/plain": [
       "<All keys matched successfully>"
      ]
     },
     "execution_count": 18,
     "metadata": {},
     "output_type": "execute_result"
    }
   ],
   "source": [
    "# Define the network and the trained model\n",
    "# visual only - no proprioception; agent learns a policy based on visual input only\n",
    "net = LocalizationCNN()\n",
    "\n",
    "# load trained model\n",
    "model_filename = './cnn_training/localization_cnn32.pt'\n",
    "net.load_state_dict(torch.load(model_filename, map_location=torch.device('cpu')))"
   ]
  },
  {
   "cell_type": "markdown",
   "metadata": {},
   "source": [
    "# Lab Recording Room"
   ]
  },
  {
   "cell_type": "code",
   "execution_count": null,
   "metadata": {},
   "outputs": [],
   "source": [
    "# experiment settings\n",
    "batch_num = 50\n",
    "batch_size = 1000\n",
    "zero_mean = True\n",
    "layer = 'conv1'"
   ]
  }
 ],
 "metadata": {
  "kernelspec": {
   "display_name": "fyp",
   "language": "python",
   "name": "python3"
  },
  "language_info": {
   "codemirror_mode": {
    "name": "ipython",
    "version": 3
   },
   "file_extension": ".py",
   "mimetype": "text/x-python",
   "name": "python",
   "nbconvert_exporter": "python",
   "pygments_lexer": "ipython3",
   "version": "3.10.13"
  }
 },
 "nbformat": 4,
 "nbformat_minor": 2
}
